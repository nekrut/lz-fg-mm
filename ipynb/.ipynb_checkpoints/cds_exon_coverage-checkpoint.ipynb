{
 "cells": [
  {
   "cell_type": "markdown",
   "id": "4f66da90-c7c6-4c21-97a5-d87cae1dbbba",
   "metadata": {},
   "source": [
    "# README\n",
    "\n",
    "This notebook plots the fraction of alignmnets overlapping coding exons \n",
    "It takes an output of the following Galaxy workflow: https://usegalaxy.org/u/cartman/w/cdsoverlaps\n",
    "The output can be found in the following history: https://usegalaxy.org/u/cartman/h/cdsoverlapscomparison"
   ]
  },
  {
   "cell_type": "code",
   "execution_count": 1,
   "id": "26f43fbc-e1df-4e33-bae8-b097b5dcdf2b",
   "metadata": {},
   "outputs": [
    {
     "name": "stderr",
     "output_type": "stream",
     "text": [
      "/tmp/ipykernel_588414/2443617991.py:1: DeprecationWarning: \n",
      "Pyarrow will become a required dependency of pandas in the next major release of pandas (pandas 3.0),\n",
      "(to allow more performant data types, such as the Arrow string type, and better interoperability with other libraries)\n",
      "but was not found to be installed on your system.\n",
      "If this would cause problems for you,\n",
      "please provide us feedback at https://github.com/pandas-dev/pandas/issues/54466\n",
      "        \n",
      "  import pandas as pd\n"
     ]
    }
   ],
   "source": [
    "import pandas as pd\n",
    "import altair as alt"
   ]
  },
  {
   "cell_type": "code",
   "execution_count": 2,
   "id": "45cf7f5f-fe7d-425b-99cb-08bc888cf862",
   "metadata": {},
   "outputs": [],
   "source": [
    "df = pd.read_csv('https://usegalaxy.org/api/datasets/f9cad7b01a47213558f78b44fb295589/display?to_ext=bed', \n",
    "                 sep='\\t', \n",
    "                 names='chr,count,fg,lz,mm'.split(',')\n",
    "                )"
   ]
  },
  {
   "cell_type": "code",
   "execution_count": 3,
   "id": "0f3c3478-d428-4156-811d-bef085397543",
   "metadata": {},
   "outputs": [],
   "source": [
    "df['fastga']=df['fg']/df['count']\n",
    "df['lastz']=df['lz']/df['count']\n",
    "df['minimap2']=df['mm']/df['count']"
   ]
  },
  {
   "cell_type": "code",
   "execution_count": 4,
   "id": "a79afe01-c245-41d2-861e-bfdd30e06192",
   "metadata": {},
   "outputs": [
    {
     "data": {
      "text/html": [
       "<div>\n",
       "<style scoped>\n",
       "    .dataframe tbody tr th:only-of-type {\n",
       "        vertical-align: middle;\n",
       "    }\n",
       "\n",
       "    .dataframe tbody tr th {\n",
       "        vertical-align: top;\n",
       "    }\n",
       "\n",
       "    .dataframe thead th {\n",
       "        text-align: right;\n",
       "    }\n",
       "</style>\n",
       "<table border=\"1\" class=\"dataframe\">\n",
       "  <thead>\n",
       "    <tr style=\"text-align: right;\">\n",
       "      <th></th>\n",
       "      <th>chr</th>\n",
       "      <th>count</th>\n",
       "      <th>fg</th>\n",
       "      <th>lz</th>\n",
       "      <th>mm</th>\n",
       "      <th>fastga</th>\n",
       "      <th>lastz</th>\n",
       "      <th>minimap2</th>\n",
       "    </tr>\n",
       "  </thead>\n",
       "  <tbody>\n",
       "    <tr>\n",
       "      <th>0</th>\n",
       "      <td>chr1</td>\n",
       "      <td>21736</td>\n",
       "      <td>6959</td>\n",
       "      <td>20272</td>\n",
       "      <td>810</td>\n",
       "      <td>0.320160</td>\n",
       "      <td>0.932646</td>\n",
       "      <td>0.037265</td>\n",
       "    </tr>\n",
       "    <tr>\n",
       "      <th>1</th>\n",
       "      <td>chr10</td>\n",
       "      <td>8776</td>\n",
       "      <td>2295</td>\n",
       "      <td>8253</td>\n",
       "      <td>360</td>\n",
       "      <td>0.261509</td>\n",
       "      <td>0.940406</td>\n",
       "      <td>0.041021</td>\n",
       "    </tr>\n",
       "    <tr>\n",
       "      <th>2</th>\n",
       "      <td>chr11</td>\n",
       "      <td>11828</td>\n",
       "      <td>4569</td>\n",
       "      <td>11366</td>\n",
       "      <td>515</td>\n",
       "      <td>0.386287</td>\n",
       "      <td>0.960940</td>\n",
       "      <td>0.043541</td>\n",
       "    </tr>\n",
       "    <tr>\n",
       "      <th>3</th>\n",
       "      <td>chr12</td>\n",
       "      <td>12031</td>\n",
       "      <td>3595</td>\n",
       "      <td>11263</td>\n",
       "      <td>430</td>\n",
       "      <td>0.298811</td>\n",
       "      <td>0.936165</td>\n",
       "      <td>0.035741</td>\n",
       "    </tr>\n",
       "    <tr>\n",
       "      <th>4</th>\n",
       "      <td>chr13</td>\n",
       "      <td>3843</td>\n",
       "      <td>848</td>\n",
       "      <td>3569</td>\n",
       "      <td>148</td>\n",
       "      <td>0.220661</td>\n",
       "      <td>0.928702</td>\n",
       "      <td>0.038512</td>\n",
       "    </tr>\n",
       "  </tbody>\n",
       "</table>\n",
       "</div>"
      ],
      "text/plain": [
       "     chr  count    fg     lz   mm    fastga     lastz  minimap2\n",
       "0   chr1  21736  6959  20272  810  0.320160  0.932646  0.037265\n",
       "1  chr10   8776  2295   8253  360  0.261509  0.940406  0.041021\n",
       "2  chr11  11828  4569  11366  515  0.386287  0.960940  0.043541\n",
       "3  chr12  12031  3595  11263  430  0.298811  0.936165  0.035741\n",
       "4  chr13   3843   848   3569  148  0.220661  0.928702  0.038512"
      ]
     },
     "execution_count": 4,
     "metadata": {},
     "output_type": "execute_result"
    }
   ],
   "source": [
    "df.head()"
   ]
  },
  {
   "cell_type": "code",
   "execution_count": 5,
   "id": "f61c1ec8-cc77-476e-9bdd-8ce8e0879b4a",
   "metadata": {},
   "outputs": [],
   "source": [
    "data = pd.melt(df,id_vars='chr',value_vars=['fastga','lastz','minimap2'])"
   ]
  },
  {
   "cell_type": "code",
   "execution_count": 6,
   "id": "b49af2e2-8abb-4765-9b06-0224b3b5b65f",
   "metadata": {},
   "outputs": [
    {
     "data": {
      "text/html": [
       "<div>\n",
       "<style scoped>\n",
       "    .dataframe tbody tr th:only-of-type {\n",
       "        vertical-align: middle;\n",
       "    }\n",
       "\n",
       "    .dataframe tbody tr th {\n",
       "        vertical-align: top;\n",
       "    }\n",
       "\n",
       "    .dataframe thead th {\n",
       "        text-align: right;\n",
       "    }\n",
       "</style>\n",
       "<table border=\"1\" class=\"dataframe\">\n",
       "  <thead>\n",
       "    <tr style=\"text-align: right;\">\n",
       "      <th></th>\n",
       "      <th>chr</th>\n",
       "      <th>variable</th>\n",
       "      <th>value</th>\n",
       "    </tr>\n",
       "  </thead>\n",
       "  <tbody>\n",
       "    <tr>\n",
       "      <th>0</th>\n",
       "      <td>chr1</td>\n",
       "      <td>fastga</td>\n",
       "      <td>0.320160</td>\n",
       "    </tr>\n",
       "    <tr>\n",
       "      <th>1</th>\n",
       "      <td>chr10</td>\n",
       "      <td>fastga</td>\n",
       "      <td>0.261509</td>\n",
       "    </tr>\n",
       "    <tr>\n",
       "      <th>2</th>\n",
       "      <td>chr11</td>\n",
       "      <td>fastga</td>\n",
       "      <td>0.386287</td>\n",
       "    </tr>\n",
       "    <tr>\n",
       "      <th>3</th>\n",
       "      <td>chr12</td>\n",
       "      <td>fastga</td>\n",
       "      <td>0.298811</td>\n",
       "    </tr>\n",
       "    <tr>\n",
       "      <th>4</th>\n",
       "      <td>chr13</td>\n",
       "      <td>fastga</td>\n",
       "      <td>0.220661</td>\n",
       "    </tr>\n",
       "  </tbody>\n",
       "</table>\n",
       "</div>"
      ],
      "text/plain": [
       "     chr variable     value\n",
       "0   chr1   fastga  0.320160\n",
       "1  chr10   fastga  0.261509\n",
       "2  chr11   fastga  0.386287\n",
       "3  chr12   fastga  0.298811\n",
       "4  chr13   fastga  0.220661"
      ]
     },
     "execution_count": 6,
     "metadata": {},
     "output_type": "execute_result"
    }
   ],
   "source": [
    "data.head()"
   ]
  },
  {
   "cell_type": "code",
   "execution_count": 7,
   "id": "b6663aad-239d-4f79-b009-6b7e432ee98e",
   "metadata": {},
   "outputs": [],
   "source": [
    "chr_order = []\n",
    "for chr in '1,2,3,4,5,6,7,8,9,10,11,12,13,14,15,16,17,18,19,20,21,22,X,Y,M'.split(','):\n",
    "    chr_order.append('chr'+chr)"
   ]
  },
  {
   "cell_type": "code",
   "execution_count": 8,
   "id": "ff57b441-ceb4-438f-ba9a-e8cdf9bae62a",
   "metadata": {},
   "outputs": [
    {
     "data": {
      "text/html": [
       "\n",
       "<style>\n",
       "  #altair-viz-f18e1b62422c486ab68c08d10a6194da.vega-embed {\n",
       "    width: 100%;\n",
       "    display: flex;\n",
       "  }\n",
       "\n",
       "  #altair-viz-f18e1b62422c486ab68c08d10a6194da.vega-embed details,\n",
       "  #altair-viz-f18e1b62422c486ab68c08d10a6194da.vega-embed details summary {\n",
       "    position: relative;\n",
       "  }\n",
       "</style>\n",
       "<div id=\"altair-viz-f18e1b62422c486ab68c08d10a6194da\"></div>\n",
       "<script type=\"text/javascript\">\n",
       "  var VEGA_DEBUG = (typeof VEGA_DEBUG == \"undefined\") ? {} : VEGA_DEBUG;\n",
       "  (function(spec, embedOpt){\n",
       "    let outputDiv = document.currentScript.previousElementSibling;\n",
       "    if (outputDiv.id !== \"altair-viz-f18e1b62422c486ab68c08d10a6194da\") {\n",
       "      outputDiv = document.getElementById(\"altair-viz-f18e1b62422c486ab68c08d10a6194da\");\n",
       "    }\n",
       "    const paths = {\n",
       "      \"vega\": \"https://cdn.jsdelivr.net/npm/vega@5?noext\",\n",
       "      \"vega-lib\": \"https://cdn.jsdelivr.net/npm/vega-lib?noext\",\n",
       "      \"vega-lite\": \"https://cdn.jsdelivr.net/npm/vega-lite@5.16.3?noext\",\n",
       "      \"vega-embed\": \"https://cdn.jsdelivr.net/npm/vega-embed@6?noext\",\n",
       "    };\n",
       "\n",
       "    function maybeLoadScript(lib, version) {\n",
       "      var key = `${lib.replace(\"-\", \"\")}_version`;\n",
       "      return (VEGA_DEBUG[key] == version) ?\n",
       "        Promise.resolve(paths[lib]) :\n",
       "        new Promise(function(resolve, reject) {\n",
       "          var s = document.createElement('script');\n",
       "          document.getElementsByTagName(\"head\")[0].appendChild(s);\n",
       "          s.async = true;\n",
       "          s.onload = () => {\n",
       "            VEGA_DEBUG[key] = version;\n",
       "            return resolve(paths[lib]);\n",
       "          };\n",
       "          s.onerror = () => reject(`Error loading script: ${paths[lib]}`);\n",
       "          s.src = paths[lib];\n",
       "        });\n",
       "    }\n",
       "\n",
       "    function showError(err) {\n",
       "      outputDiv.innerHTML = `<div class=\"error\" style=\"color:red;\">${err}</div>`;\n",
       "      throw err;\n",
       "    }\n",
       "\n",
       "    function displayChart(vegaEmbed) {\n",
       "      vegaEmbed(outputDiv, spec, embedOpt)\n",
       "        .catch(err => showError(`Javascript Error: ${err.message}<br>This usually means there's a typo in your chart specification. See the javascript console for the full traceback.`));\n",
       "    }\n",
       "\n",
       "    if(typeof define === \"function\" && define.amd) {\n",
       "      requirejs.config({paths});\n",
       "      require([\"vega-embed\"], displayChart, err => showError(`Error loading script: ${err.message}`));\n",
       "    } else {\n",
       "      maybeLoadScript(\"vega\", \"5\")\n",
       "        .then(() => maybeLoadScript(\"vega-lite\", \"5.16.3\"))\n",
       "        .then(() => maybeLoadScript(\"vega-embed\", \"6\"))\n",
       "        .catch(showError)\n",
       "        .then(() => displayChart(vegaEmbed));\n",
       "    }\n",
       "  })({\"config\": {\"view\": {\"continuousWidth\": 300, \"continuousHeight\": 300}}, \"data\": {\"name\": \"data-5b751e62b9e4116916382d2cbd4afd87\"}, \"mark\": {\"type\": \"circle\", \"size\": 100}, \"encoding\": {\"color\": {\"field\": \"variable\", \"sort\": [\"lastz\", \"fastga\", \"minimap2\"], \"type\": \"nominal\"}, \"x\": {\"axis\": {\"title\": null}, \"field\": \"chr\", \"sort\": [\"chr1\", \"chr2\", \"chr3\", \"chr4\", \"chr5\", \"chr6\", \"chr7\", \"chr8\", \"chr9\", \"chr10\", \"chr11\", \"chr12\", \"chr13\", \"chr14\", \"chr15\", \"chr16\", \"chr17\", \"chr18\", \"chr19\", \"chr20\", \"chr21\", \"chr22\", \"chrX\", \"chrY\", \"chrM\"], \"type\": \"ordinal\"}, \"y\": {\"axis\": {\"title\": null}, \"field\": \"value\", \"type\": \"quantitative\"}}, \"height\": 100, \"resolve\": {\"scale\": {\"x\": \"independent\"}}, \"width\": 800, \"$schema\": \"https://vega.github.io/schema/vega-lite/v5.16.3.json\", \"datasets\": {\"data-5b751e62b9e4116916382d2cbd4afd87\": [{\"chr\": \"chr1\", \"variable\": \"fastga\", \"value\": 0.3201601030548399}, {\"chr\": \"chr10\", \"variable\": \"fastga\", \"value\": 0.2615086599817685}, {\"chr\": \"chr11\", \"variable\": \"fastga\", \"value\": 0.38628677713899223}, {\"chr\": \"chr12\", \"variable\": \"fastga\", \"value\": 0.2988114038733272}, {\"chr\": \"chr13\", \"variable\": \"fastga\", \"value\": 0.2206609419724174}, {\"chr\": \"chr14\", \"variable\": \"fastga\", \"value\": 0.33941947565543074}, {\"chr\": \"chr15\", \"variable\": \"fastga\", \"value\": 0.30991299762720803}, {\"chr\": \"chr16\", \"variable\": \"fastga\", \"value\": 0.29704837993786065}, {\"chr\": \"chr17\", \"variable\": \"fastga\", \"value\": 0.4048823576648197}, {\"chr\": \"chr18\", \"variable\": \"fastga\", \"value\": 0.23447860156720915}, {\"chr\": \"chr19\", \"variable\": \"fastga\", \"value\": 0.24201862321250417}, {\"chr\": \"chr2\", \"variable\": \"fastga\", \"value\": 0.30695871531409585}, {\"chr\": \"chr20\", \"variable\": \"fastga\", \"value\": 0.2911466458658346}, {\"chr\": \"chr21\", \"variable\": \"fastga\", \"value\": 0.14824797843665768}, {\"chr\": \"chr22\", \"variable\": \"fastga\", \"value\": 0.2731217172870518}, {\"chr\": \"chr3\", \"variable\": \"fastga\", \"value\": 0.3241972751175205}, {\"chr\": \"chr4\", \"variable\": \"fastga\", \"value\": 0.22591522157996147}, {\"chr\": \"chr5\", \"variable\": \"fastga\", \"value\": 0.29716677398583385}, {\"chr\": \"chr6\", \"variable\": \"fastga\", \"value\": 0.2939500427391015}, {\"chr\": \"chr7\", \"variable\": \"fastga\", \"value\": 0.27143289912147833}, {\"chr\": \"chr8\", \"variable\": \"fastga\", \"value\": 0.26222957144825687}, {\"chr\": \"chr9\", \"variable\": \"fastga\", \"value\": 0.29248689574839837}, {\"chr\": \"chrM\", \"variable\": \"fastga\", \"value\": 1.0}, {\"chr\": \"chrX\", \"variable\": \"fastga\", \"value\": 0.3979195561719834}, {\"chr\": \"chrY\", \"variable\": \"fastga\", \"value\": 0.11900826446280992}, {\"chr\": \"chr1\", \"variable\": \"lastz\", \"value\": 0.9326463010673537}, {\"chr\": \"chr10\", \"variable\": \"lastz\", \"value\": 0.9404056517775752}, {\"chr\": \"chr11\", \"variable\": \"lastz\", \"value\": 0.9609401420358471}, {\"chr\": \"chr12\", \"variable\": \"lastz\", \"value\": 0.9361649073227496}, {\"chr\": \"chr13\", \"variable\": \"lastz\", \"value\": 0.9287015352589123}, {\"chr\": \"chr14\", \"variable\": \"lastz\", \"value\": 0.9583333333333334}, {\"chr\": \"chr15\", \"variable\": \"lastz\", \"value\": 0.964012654890588}, {\"chr\": \"chr16\", \"variable\": \"lastz\", \"value\": 0.9305370616955171}, {\"chr\": \"chr17\", \"variable\": \"lastz\", \"value\": 0.9532642736689955}, {\"chr\": \"chr18\", \"variable\": \"lastz\", \"value\": 0.9418324291742013}, {\"chr\": \"chr19\", \"variable\": \"lastz\", \"value\": 0.9015630196208846}, {\"chr\": \"chr2\", \"variable\": \"lastz\", \"value\": 0.9503476281301914}, {\"chr\": \"chr20\", \"variable\": \"lastz\", \"value\": 0.9506630265210608}, {\"chr\": \"chr21\", \"variable\": \"lastz\", \"value\": 0.9164420485175202}, {\"chr\": \"chr22\", \"variable\": \"lastz\", \"value\": 0.9319479333181092}, {\"chr\": \"chr3\", \"variable\": \"lastz\", \"value\": 0.9572145645765278}, {\"chr\": \"chr4\", \"variable\": \"lastz\", \"value\": 0.944364161849711}, {\"chr\": \"chr5\", \"variable\": \"lastz\", \"value\": 0.9507405022537025}, {\"chr\": \"chr6\", \"variable\": \"lastz\", \"value\": 0.9422547250451135}, {\"chr\": \"chr7\", \"variable\": \"lastz\", \"value\": 0.9458749873775624}, {\"chr\": \"chr8\", \"variable\": \"lastz\", \"value\": 0.9368885214275872}, {\"chr\": \"chr9\", \"variable\": \"lastz\", \"value\": 0.9564356435643564}, {\"chr\": \"chrM\", \"variable\": \"lastz\", \"value\": 1.0}, {\"chr\": \"chrX\", \"variable\": \"lastz\", \"value\": 0.9220527045769764}, {\"chr\": \"chrY\", \"variable\": \"lastz\", \"value\": 0.7851239669421488}, {\"chr\": \"chr1\", \"variable\": \"minimap2\", \"value\": 0.03726536621273464}, {\"chr\": \"chr10\", \"variable\": \"minimap2\", \"value\": 0.04102096627164995}, {\"chr\": \"chr11\", \"variable\": \"minimap2\", \"value\": 0.04354075076090633}, {\"chr\": \"chr12\", \"variable\": \"minimap2\", \"value\": 0.0357410024104397}, {\"chr\": \"chr13\", \"variable\": \"minimap2\", \"value\": 0.038511579495186056}, {\"chr\": \"chr14\", \"variable\": \"minimap2\", \"value\": 0.05290262172284644}, {\"chr\": \"chr15\", \"variable\": \"minimap2\", \"value\": 0.03572370155549697}, {\"chr\": \"chr16\", \"variable\": \"minimap2\", \"value\": 0.029183311140701287}, {\"chr\": \"chr17\", \"variable\": \"minimap2\", \"value\": 0.039829759897213525}, {\"chr\": \"chr18\", \"variable\": \"minimap2\", \"value\": 0.040988547317661245}, {\"chr\": \"chr19\", \"variable\": \"minimap2\", \"value\": 0.020369138676421684}, {\"chr\": \"chr2\", \"variable\": \"minimap2\", \"value\": 0.048052667199901554}, {\"chr\": \"chr20\", \"variable\": \"minimap2\", \"value\": 0.03529641185647426}, {\"chr\": \"chr21\", \"variable\": \"minimap2\", \"value\": 0.022911051212938006}, {\"chr\": \"chr22\", \"variable\": \"minimap2\", \"value\": 0.028545329984014614}, {\"chr\": \"chr3\", \"variable\": \"minimap2\", \"value\": 0.04166998645526253}, {\"chr\": \"chr4\", \"variable\": \"minimap2\", \"value\": 0.032996146435452796}, {\"chr\": \"chr5\", \"variable\": \"minimap2\", \"value\": 0.04850826357587465}, {\"chr\": \"chr6\", \"variable\": \"minimap2\", \"value\": 0.03466616012916706}, {\"chr\": \"chr7\", \"variable\": \"minimap2\", \"value\": 0.03615066141573261}, {\"chr\": \"chr8\", \"variable\": \"minimap2\", \"value\": 0.038032244729226956}, {\"chr\": \"chr9\", \"variable\": \"minimap2\", \"value\": 0.04205008736167734}, {\"chr\": \"chrM\", \"variable\": \"minimap2\", \"value\": 0.0}, {\"chr\": \"chrX\", \"variable\": \"minimap2\", \"value\": 0.07073509015256588}, {\"chr\": \"chrY\", \"variable\": \"minimap2\", \"value\": 0.008264462809917356}]}}, {\"mode\": \"vega-lite\"});\n",
       "</script>"
      ],
      "text/plain": [
       "alt.Chart(...)"
      ]
     },
     "execution_count": 8,
     "metadata": {},
     "output_type": "execute_result"
    }
   ],
   "source": [
    "alt.Chart(data).mark_circle(size=100).encode(\n",
    "    x=alt.X('chr:O',sort=chr_order).axis(title=None),\n",
    "    y=alt.Y('value:Q').axis(title=None),\n",
    "    color=alt.Color('variable:N',sort=['lastz','fastga','minimap2']),\n",
    "    #row=alt.Row('length:N',title=None),\n",
    "    #column='divergence:O'\n",
    ").properties(\n",
    "    width=800,  # Set width of the chart\n",
    "    height=100,  # Set height of the chart,\n",
    ").resolve_scale(\n",
    "    x='independent'  # Make x-axis independent across columns\n",
    ")"
   ]
  }
 ],
 "metadata": {
  "kernelspec": {
   "display_name": "Python 3 (ipykernel)",
   "language": "python",
   "name": "python3"
  },
  "language_info": {
   "codemirror_mode": {
    "name": "ipython",
    "version": 3
   },
   "file_extension": ".py",
   "mimetype": "text/x-python",
   "name": "python",
   "nbconvert_exporter": "python",
   "pygments_lexer": "ipython3",
   "version": "3.12.1"
  }
 },
 "nbformat": 4,
 "nbformat_minor": 5
}
